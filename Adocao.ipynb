{
 "cells": [
  {
   "cell_type": "markdown",
   "metadata": {},
   "source": [
    "Analise de dados Centro Nacional de Adoção\n",
    "======================================\n",
    "\n",
    "Importação das bibliotecas que serão utilizadas"
   ]
  },
  {
   "cell_type": "code",
   "execution_count": 115,
   "metadata": {},
   "outputs": [
    {
     "data": {
      "text/html": [
       "        <script type=\"text/javascript\">\n",
       "        window.PlotlyConfig = {MathJaxConfig: 'local'};\n",
       "        if (window.MathJax) {MathJax.Hub.Config({SVG: {font: \"STIX-Web\"}});}\n",
       "        if (typeof require !== 'undefined') {\n",
       "        require.undef(\"plotly\");\n",
       "        requirejs.config({\n",
       "            paths: {\n",
       "                'plotly': ['https://cdn.plot.ly/plotly-latest.min']\n",
       "            }\n",
       "        });\n",
       "        require(['plotly'], function(Plotly) {\n",
       "            window._Plotly = Plotly;\n",
       "        });\n",
       "        }\n",
       "        </script>\n",
       "        "
      ]
     },
     "metadata": {},
     "output_type": "display_data"
    }
   ],
   "source": [
    "import pandas as pd\n",
    "from pandas import Series, DataFrame as df\n",
    "\n",
    "import seaborn as sb\n",
    "import numpy as np\n",
    "import plotly.offline as py\n",
    "import plotly.graph_objs as go\n",
    "import matplotlib.pyplot as plt\n",
    "\n",
    "%matplotlib inline\n",
    "py.init_notebook_mode(connected = True)"
   ]
  },
  {
   "cell_type": "markdown",
   "metadata": {},
   "source": [
    "\n",
    "1ª Tabela - Relatório de crianças\n",
    "==================\n",
    "\n",
    "**OBJETIVOS**\n",
    "\n",
    "* Leitura da 1ª tabela com relatório de crianças\n",
    "* Manipulação e formatação dos dados da tabela\n",
    "* Utilização de DataFrames\n",
    "* Apresentação dos gráficos utilizando a biblioteca Plotly\n"
   ]
  },
  {
   "cell_type": "code",
   "execution_count": 116,
   "metadata": {
    "scrolled": true
   },
   "outputs": [
    {
     "data": {
      "text/html": [
       "<div>\n",
       "<style scoped>\n",
       "    .dataframe tbody tr th:only-of-type {\n",
       "        vertical-align: middle;\n",
       "    }\n",
       "\n",
       "    .dataframe tbody tr th {\n",
       "        vertical-align: top;\n",
       "    }\n",
       "\n",
       "    .dataframe thead th {\n",
       "        text-align: right;\n",
       "    }\n",
       "</style>\n",
       "<table border=\"1\" class=\"dataframe\">\n",
       "  <thead>\n",
       "    <tr style=\"text-align: right;\">\n",
       "      <th></th>\n",
       "      <th>Título</th>\n",
       "      <th>Total</th>\n",
       "      <th>Porcentagem</th>\n",
       "    </tr>\n",
       "  </thead>\n",
       "  <tbody>\n",
       "    <tr>\n",
       "      <th>0</th>\n",
       "      <td>Total de crianças/adolescentes cadastradas:</td>\n",
       "      <td>9536</td>\n",
       "      <td>1</td>\n",
       "    </tr>\n",
       "    <tr>\n",
       "      <th>1</th>\n",
       "      <td>Total de crianças/adolescentes da raça branca:</td>\n",
       "      <td>3151</td>\n",
       "      <td>33.04%</td>\n",
       "    </tr>\n",
       "    <tr>\n",
       "      <th>2</th>\n",
       "      <td>Total de crianças/adolescentes da raça negra:</td>\n",
       "      <td>1585</td>\n",
       "      <td>16.62%</td>\n",
       "    </tr>\n",
       "    <tr>\n",
       "      <th>3</th>\n",
       "      <td>Total de crianças/adolescentes da raça amarela:</td>\n",
       "      <td>19</td>\n",
       "      <td>0.2%</td>\n",
       "    </tr>\n",
       "    <tr>\n",
       "      <th>4</th>\n",
       "      <td>Total de crianças/adolescentes da raça parda:</td>\n",
       "      <td>4750</td>\n",
       "      <td>49.81%</td>\n",
       "    </tr>\n",
       "    <tr>\n",
       "      <th>5</th>\n",
       "      <td>Total de crianças/adolescentes da raça indígena:</td>\n",
       "      <td>31</td>\n",
       "      <td>0.33%</td>\n",
       "    </tr>\n",
       "    <tr>\n",
       "      <th>6</th>\n",
       "      <td>Total de crianças/adolescentes que possuem irmãos</td>\n",
       "      <td></td>\n",
       "      <td></td>\n",
       "    </tr>\n",
       "    <tr>\n",
       "      <th>7</th>\n",
       "      <td>Total que não possuem irmãos:</td>\n",
       "      <td>4262</td>\n",
       "      <td>44.69%</td>\n",
       "    </tr>\n",
       "    <tr>\n",
       "      <th>8</th>\n",
       "      <td>Total que possuem irmãos:</td>\n",
       "      <td>5274</td>\n",
       "      <td>55.31%</td>\n",
       "    </tr>\n",
       "    <tr>\n",
       "      <th>9</th>\n",
       "      <td>Total de crianças/adolescentes que possuem pro...</td>\n",
       "      <td>2461</td>\n",
       "      <td>25.81%</td>\n",
       "    </tr>\n",
       "  </tbody>\n",
       "</table>\n",
       "</div>"
      ],
      "text/plain": [
       "                                              Título Total Porcentagem\n",
       "0        Total de crianças/adolescentes cadastradas:  9536           1\n",
       "1     Total de crianças/adolescentes da raça branca:  3151      33.04%\n",
       "2      Total de crianças/adolescentes da raça negra:  1585      16.62%\n",
       "3    Total de crianças/adolescentes da raça amarela:    19        0.2%\n",
       "4      Total de crianças/adolescentes da raça parda:  4750      49.81%\n",
       "5   Total de crianças/adolescentes da raça indígena:    31       0.33%\n",
       "6  Total de crianças/adolescentes que possuem irmãos                  \n",
       "7                      Total que não possuem irmãos:  4262      44.69%\n",
       "8                          Total que possuem irmãos:  5274      55.31%\n",
       "9  Total de crianças/adolescentes que possuem pro...  2461      25.81%"
      ]
     },
     "execution_count": 116,
     "metadata": {},
     "output_type": "execute_result"
    }
   ],
   "source": [
    "#Leitura do arquivo 'Relatório_De_Criancas.xlsx' utilizando delimitadores\n",
    "p = pd.read_excel('Relatorio_De_Criancas.xlsx', delimiter=';', encoding='utf-8', decimal=',', na_values = False)\n",
    "\n",
    "#Substituindo espaços sem conteudo (N/A) por string vazia\n",
    "p = p.fillna('')\n",
    "\n",
    "#Limitando para mostrar apenas 10 linhas da tabela toda (apenas para verificação)\n",
    "p.head(10)"
   ]
  },
  {
   "cell_type": "code",
   "execution_count": 117,
   "metadata": {},
   "outputs": [
    {
     "data": {
      "application/vnd.plotly.v1+json": {
       "config": {
        "linkText": "Export to plot.ly",
        "plotlyServerURL": "https://plot.ly",
        "responsive": true,
        "showLink": false
       },
       "data": [
        {
         "type": "bar",
         "uid": "9d9e09b5-3b4e-47bf-81ed-386410c6424c",
         "x": [
          "AC",
          "AL",
          "AM",
          "AP",
          "BA",
          "CE",
          "DF",
          "DF",
          "ES",
          "GO",
          "MA",
          "MG",
          "MS",
          "MT",
          "PA",
          "PB",
          "PE",
          "PI",
          "PR",
          "RJ",
          "RN",
          "RO",
          "RR",
          "RS",
          "SC",
          "SE",
          "SP",
          "TO"
         ],
         "y": [
          "0.08%",
          "0.9%",
          "0.76%",
          "0.76%",
          "2.15%",
          "2.79%",
          "1.76%",
          "2.13%",
          "2.03%",
          "1.05%",
          "11.01%",
          "3.57%",
          "1.25%",
          "1.1%",
          "0.94%",
          "4.13%",
          "1.01%",
          "9.95%",
          "9.78%",
          "1.1%",
          "0.78%",
          "0.03%",
          "16.99%",
          "3.3%",
          "0.68%",
          "19.53%",
          "0.44%",
          ""
         ]
        }
       ],
       "layout": {
        "title": {
         "text": "Porcentagem de crianças aguardando pela adoção"
        },
        "xaxis": {
         "title": {
          "text": "estados do Brasil"
         }
        },
        "yaxis": {
         "title": {
          "text": "Quantidade de crianças"
         }
        }
       }
      },
      "text/html": [
       "<div>\n",
       "        \n",
       "        \n",
       "            <div id=\"2acefa27-c1fc-41f5-a69f-9bf041ea7721\" class=\"plotly-graph-div\" style=\"height:525px; width:100%;\"></div>\n",
       "            <script type=\"text/javascript\">\n",
       "                require([\"plotly\"], function(Plotly) {\n",
       "                    window.PLOTLYENV=window.PLOTLYENV || {};\n",
       "                    window.PLOTLYENV.BASE_URL='https://plot.ly';\n",
       "                    \n",
       "                if (document.getElementById(\"2acefa27-c1fc-41f5-a69f-9bf041ea7721\")) {\n",
       "                    Plotly.newPlot(\n",
       "                        '2acefa27-c1fc-41f5-a69f-9bf041ea7721',\n",
       "                        [{\"type\": \"bar\", \"uid\": \"16fe95a9-2fdf-45a2-b571-8519fd14a976\", \"x\": [\"AC\", \"AL\", \"AM\", \"AP\", \"BA\", \"CE\", \"DF\", \"DF\", \"ES\", \"GO\", \"MA\", \"MG\", \"MS\", \"MT\", \"PA\", \"PB\", \"PE\", \"PI\", \"PR\", \"RJ\", \"RN\", \"RO\", \"RR\", \"RS\", \"SC\", \"SE\", \"SP\", \"TO\"], \"y\": [\"0.08%\", \"0.9%\", \"0.76%\", \"0.76%\", \"2.15%\", \"2.79%\", \"1.76%\", \"2.13%\", \"2.03%\", \"1.05%\", \"11.01%\", \"3.57%\", \"1.25%\", \"1.1%\", \"0.94%\", \"4.13%\", \"1.01%\", \"9.95%\", \"9.78%\", \"1.1%\", \"0.78%\", \"0.03%\", \"16.99%\", \"3.3%\", \"0.68%\", \"19.53%\", \"0.44%\", \"\"]}],\n",
       "                        {\"title\": {\"text\": \"Porcentagem de crian\\u00e7as aguardando pela ado\\u00e7\\u00e3o\"}, \"xaxis\": {\"title\": {\"text\": \"estados do Brasil\"}}, \"yaxis\": {\"title\": {\"text\": \"Quantidade de crian\\u00e7as\"}}},\n",
       "                        {\"showLink\": false, \"linkText\": \"Export to plot.ly\", \"plotlyServerURL\": \"https://plot.ly\", \"responsive\": true}\n",
       "                    ).then(function(){\n",
       "                            \n",
       "var gd = document.getElementById('2acefa27-c1fc-41f5-a69f-9bf041ea7721');\n",
       "var x = new MutationObserver(function (mutations, observer) {{\n",
       "        var display = window.getComputedStyle(gd).display;\n",
       "        if (!display || display === 'none') {{\n",
       "            console.log([gd, 'removed!']);\n",
       "            Plotly.purge(gd);\n",
       "            observer.disconnect();\n",
       "        }}\n",
       "}});\n",
       "\n",
       "// Listen for the removal of the full notebook cells\n",
       "var notebookContainer = gd.closest('#notebook-container');\n",
       "if (notebookContainer) {{\n",
       "    x.observe(notebookContainer, {childList: true});\n",
       "}}\n",
       "\n",
       "// Listen for the clearing of the current output cell\n",
       "var outputEl = gd.closest('.output');\n",
       "if (outputEl) {{\n",
       "    x.observe(outputEl, {childList: true});\n",
       "}}\n",
       "\n",
       "                        })\n",
       "                };\n",
       "                });\n",
       "            </script>\n",
       "        </div>"
      ]
     },
     "metadata": {},
     "output_type": "display_data"
    }
   ],
   "source": [
    "#Criando um dataframe da tabela em uma posição específica\n",
    "df = pd.DataFrame(p[65:93])\n",
    "df.columns = ['Título','Total', 'Porcentagem']\n",
    "\n",
    "#Criando gráfico\n",
    "trace = go.Bar(x = ['AC','AL','AM','AP','BA','CE','DF','DF','ES','GO','MA','MG','MS','MT','PA','PB','PE','PI','PR','RJ','RN','RO','RR','RS','SC','SE','SP','TO'],\n",
    "                  y = df['Porcentagem'] )\n",
    "\n",
    "#Armazenando gráfico\n",
    "data = [trace]\n",
    "\n",
    "#Criando Layout\n",
    "layout = go.Layout(title = 'Porcentagem de crianças aguardando pela adoção',\n",
    "                  yaxis = {'title':'Quantidade de crianças'},\n",
    "                  xaxis = {'title': 'estados do Brasil'})\n",
    "\n",
    "#Criando figura que será exibida\n",
    "fig = go.Figure(data = data, layout = layout)\n",
    "\n",
    "#Exibindo figura\n",
    "py.iplot(fig)"
   ]
  },
  {
   "cell_type": "markdown",
   "metadata": {},
   "source": [
    "\n",
    "2ª Tabela - Indice de Natalidade nos Municipios de São Paulo\n",
    "=======================================\n"
   ]
  },
  {
   "cell_type": "code",
   "execution_count": 118,
   "metadata": {},
   "outputs": [
    {
     "data": {
      "text/html": [
       "<div>\n",
       "<style scoped>\n",
       "    .dataframe tbody tr th:only-of-type {\n",
       "        vertical-align: middle;\n",
       "    }\n",
       "\n",
       "    .dataframe tbody tr th {\n",
       "        vertical-align: top;\n",
       "    }\n",
       "\n",
       "    .dataframe thead th {\n",
       "        text-align: right;\n",
       "    }\n",
       "</style>\n",
       "<table border=\"1\" class=\"dataframe\">\n",
       "  <thead>\n",
       "    <tr style=\"text-align: right;\">\n",
       "      <th></th>\n",
       "      <th>Município</th>\n",
       "      <th>Nascim p/resid.mãe</th>\n",
       "    </tr>\n",
       "  </thead>\n",
       "  <tbody>\n",
       "    <tr>\n",
       "      <th>1</th>\n",
       "      <td>350010 Adamantina</td>\n",
       "      <td>344</td>\n",
       "    </tr>\n",
       "    <tr>\n",
       "      <th>2</th>\n",
       "      <td>350020 Adolfo</td>\n",
       "      <td>38</td>\n",
       "    </tr>\n",
       "    <tr>\n",
       "      <th>3</th>\n",
       "      <td>350030 Aguaí</td>\n",
       "      <td>436</td>\n",
       "    </tr>\n",
       "    <tr>\n",
       "      <th>4</th>\n",
       "      <td>350040 Águas da Prata</td>\n",
       "      <td>79</td>\n",
       "    </tr>\n",
       "    <tr>\n",
       "      <th>5</th>\n",
       "      <td>350050 Águas de Lindóia</td>\n",
       "      <td>239</td>\n",
       "    </tr>\n",
       "  </tbody>\n",
       "</table>\n",
       "</div>"
      ],
      "text/plain": [
       "                 Município  Nascim p/resid.mãe\n",
       "1        350010 Adamantina                 344\n",
       "2            350020 Adolfo                  38\n",
       "3             350030 Aguaí                 436\n",
       "4    350040 Águas da Prata                  79\n",
       "5  350050 Águas de Lindóia                 239"
      ]
     },
     "execution_count": 118,
     "metadata": {},
     "output_type": "execute_result"
    }
   ],
   "source": [
    "t = pd.read_excel('NatalidadeSP.xlsx', delimiter=';', encoding = 'utf-8', decimal = ',',na_values = False )\n",
    "t[1:].head()"
   ]
  }
 ],
 "metadata": {
  "kernelspec": {
   "display_name": "Python 3",
   "language": "python",
   "name": "python3"
  },
  "language_info": {
   "codemirror_mode": {
    "name": "ipython",
    "version": 3
   },
   "file_extension": ".py",
   "mimetype": "text/x-python",
   "name": "python",
   "nbconvert_exporter": "python",
   "pygments_lexer": "ipython3",
   "version": "3.7.3"
  }
 },
 "nbformat": 4,
 "nbformat_minor": 2
}
